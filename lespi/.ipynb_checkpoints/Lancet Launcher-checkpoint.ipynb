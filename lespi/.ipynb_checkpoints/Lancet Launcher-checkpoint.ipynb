{
 "metadata": {
  "name": ""
 },
 "nbformat": 3,
 "nbformat_minor": 0,
 "worksheets": [
  {
   "cells": [
    {
     "cell_type": "code",
     "collapsed": false,
     "input": [
      "import os\n",
      "import lancet\n",
      "from lancet import QLauncher, Launcher, Args, Range, List, review_and_launch\n",
      "from topo.misc.lancext import RunBatchCommand, Analysis"
     ],
     "language": "python",
     "metadata": {},
     "outputs": [
      {
       "output_type": "stream",
       "stream": "stderr",
       "text": [
        "/exports/work/inf_ndtc/s1048519/topographica/external/param/param/parameterized.py:1602: DeprecationWarning: object.__new__() takes no parameters\n",
        "  inst=Parameterized.__new__(cls,*args)\n"
       ]
      }
     ],
     "prompt_number": 1
    },
    {
     "cell_type": "code",
     "collapsed": false,
     "input": [
      "from lib import measurement"
     ],
     "language": "python",
     "metadata": {},
     "outputs": [],
     "prompt_number": 2
    },
    {
     "cell_type": "markdown",
     "metadata": {},
     "source": [
      "## Model Setup"
     ]
    },
    {
     "cell_type": "code",
     "collapsed": false,
     "input": [
      "models = List('model', ['LESPI'])\n",
      "models = Args(model='LESPI')\n",
      "\n",
      "model_files= {'LESPI':'./lespi.ty',\n",
      "              'SCAL':'./scal.ty',\n",
      "              'SEPI':'./sepi.ty',\n",
      "              'LESI':'./lesi.ty'}\n",
      "\n",
      "model_sheets = {'LESPI':['V1Exc','V1PV','V1SOM'],\n",
      "              'SCAL':['V1Exc'],\n",
      "              'SEPI':['V1Exc','V1PV'],\n",
      "              'LESI':['V1Exc','V1Inh']}"
     ],
     "language": "python",
     "metadata": {},
     "outputs": [],
     "prompt_number": 3
    },
    {
     "cell_type": "markdown",
     "metadata": {},
     "source": [
      "## Constants <a name=\"Constants\"></a>"
     ]
    },
    {
     "cell_type": "code",
     "collapsed": false,
     "input": [
      "# Settings that are constant for all simulations launched\n",
      "model_constants = lancet.Args(retina_density=24.0, lgn_density=24.0, area=1.0, cortex_density=12.0)\n",
      "\n",
      "# Simulation times at which to perform measurements\n",
      "#measurement_times = lancet.Args(times=[i*1000 for i in range(11)])\n",
      "measurement_times = [0,5,10]#1000,2500,5000,10000]\n",
      "\n",
      "# The number of phases and orientations used in the orientation tuning curve measurement\n",
      "analysis_constants = lancet.Args(num_orientation=12, num_phase=8, frequencies=[1.6])\n",
      "\n",
      "print \"The analysis and measurement contant settings:\"; (model_constants * analysis_constants).dframe"
     ],
     "language": "python",
     "metadata": {},
     "outputs": [
      {
       "output_type": "stream",
       "stream": "stdout",
       "text": [
        "The analysis and measurement contant settings:\n"
       ]
      },
      {
       "output_type": "stream",
       "stream": "stderr",
       "text": [
        "/exports/work/inf_ndtc/s1048519/tools/.virtualenvs/topo/lib/python2.6/site-packages/pandas/core/config.py:570: DeprecationWarning: height has been deprecated.\n",
        "\n",
        "  warnings.warn(d.msg, DeprecationWarning)\n"
       ]
      },
      {
       "html": [
        "<div style=\"max-height:1000px;max-width:1500px;overflow:auto;\">\n",
        "<table border=\"1\" class=\"dataframe\">\n",
        "  <thead>\n",
        "    <tr style=\"text-align: right;\">\n",
        "      <th></th>\n",
        "      <th>area</th>\n",
        "      <th>cortex_density</th>\n",
        "      <th>frequencies</th>\n",
        "      <th>lgn_density</th>\n",
        "      <th>num_orientation</th>\n",
        "      <th>num_phase</th>\n",
        "      <th>retina_density</th>\n",
        "    </tr>\n",
        "  </thead>\n",
        "  <tbody>\n",
        "    <tr>\n",
        "      <th>0</th>\n",
        "      <td> 1</td>\n",
        "      <td> 12</td>\n",
        "      <td> [1.6]</td>\n",
        "      <td> 24</td>\n",
        "      <td> 12</td>\n",
        "      <td> 8</td>\n",
        "      <td> 24</td>\n",
        "    </tr>\n",
        "  </tbody>\n",
        "</table>\n",
        "</div>"
       ],
       "metadata": {},
       "output_type": "pyout",
       "prompt_number": 4,
       "text": [
        "   area  cortex_density frequencies  lgn_density  num_orientation  num_phase  \\\n",
        "0     1              12       [1.6]           24               12          8   \n",
        "\n",
        "   retina_density  \n",
        "0              24  "
       ]
      }
     ],
     "prompt_number": 4
    },
    {
     "cell_type": "code",
     "collapsed": false,
     "input": [
      "CLUSTER = False\n",
      "threads = 4\n",
      "Launcher = lancet.QLauncher if CLUSTER else lancet.Launcher\n",
      "launcher_kwargs = dict(\n",
      "    qsub_flag_options = dict(b='y',\n",
      "                             pe=('memory-2G',str(threads)),\n",
      "                             v='OMP_NUM_THREADS=%s' % str(threads),\n",
      "                             P='inf_ndtc',\n",
      "                             R='y',\n",
      "                             m='a')\n",
      "    ) if CLUSTER else dict(max_concurrency=1)"
     ],
     "language": "python",
     "metadata": {},
     "outputs": [],
     "prompt_number": 5
    },
    {
     "cell_type": "code",
     "collapsed": false,
     "input": [
      "@review_and_launch(output_directory=os.path.join(os.getcwd(), 'Output'),\n",
      "                   launch_args=models, review=True)\n",
      "def topo_analysis(model):\n",
      "\n",
      "    sheets = Args(outputs=model_sheets[model])\n",
      "    \n",
      "    if model == 'LESPI':\n",
      "        model_spec = Range('lat_strength',1.0,2.0,3) *  Range('lat_som_loc_strength',1.0,1.5,2) * Range('lat_som_strength',2.0,2.5,2) * Range('som_pv_strength',-0.25,-0.5,2) * Range('som_strength',-1.0,-1.5,2) * List('dataset',['Nature','Gaussian'])\n",
      "    elif model == 'SEPI':\n",
      "        model_spec = List('dataset',['Nature','Gaussian']) #Range('lat_loc_strength',2.5,2.5,1) * Range('lat_pv_strength',2.5,2.5,1) * Range('pv_strength',2.5,2.5,1) * List('dataset',['Nature','Gaussian']) \n",
      "    elif model == 'SCAL':\n",
      "        model_spec = Range('exc_strength',1.0,1.0,1) * Range('inh_strength',2.0,2.0,1) * Range('area',3.0,3.0,1) * List('dataset',[\"'Nature'\",\"'Gaussian'\"])\n",
      "    elif model == 'DPGCAL':\n",
      "        model_spec = Range('lat_loc_strength',3.0,3.0,1) * Range('pv_strength',3.25,3.25,1) * Range('lat_pv_strength',3.25,3.25,1) * List('dataset',[\"'Nature'\",\"'Gaussian'\"])\n",
      "\n",
      "    # Completed Specifier\n",
      "    combined_spec = Args(times=measurement_times) * model_spec * analysis_constants * sheets\n",
      "\n",
      "    # Analysis\n",
      "    analysis = Analysis(paths=[os.getcwd()])\n",
      "    analysis.add_analysis_fn(measurement.OR_measurement)\n",
      "    analysis.add_analysis_fn(measurement.pinwheel_analysis)\n",
      "    analysis.add_analysis_fn(measurement.measure_position)\n",
      "    analysis.add_analysis_fn(measurement.measure_or_tuning)\n",
      "    analysis.add_analysis_fn(measurement.measure_size)\n",
      "    analysis.add_analysis_fn(measurement.measure_octc)\n",
      "    analysis.add_analysis_fn(measurement.measure_rfs)\n",
      "    \n",
      "    run_batch_command = RunBatchCommand(model_files[model], analysis, snapshot=False)\n",
      "    \n",
      "    return Launcher(model, combined_spec, run_batch_command, **launcher_kwargs)"
     ],
     "language": "python",
     "metadata": {},
     "outputs": [],
     "prompt_number": 6
    },
    {
     "cell_type": "code",
     "collapsed": false,
     "input": [
      "topo_analysis()"
     ],
     "language": "python",
     "metadata": {},
     "outputs": [
      {
       "output_type": "stream",
       "stream": "stdout",
       "text": [
        "\n",
        "==========================\n",
        "| Meta Arguments Summary |\n",
        "==========================\n",
        "\n",
        "Items: 1\n",
        "Varying Keys: \n",
        "Constant Items: model='LESPI'\n",
        "\n",
        "Args(\n",
        "   model='LESPI'\n",
        ")\n",
        "\n"
       ]
      },
      {
       "name": "stdout",
       "output_type": "stream",
       "stream": "stdout",
       "text": [
        "\n",
        "Show available argument specifier entries? [y, N, quit]: \n"
       ]
      },
      {
       "output_type": "stream",
       "stream": "stdout",
       "text": [
        "\n",
        "\n",
        "=====================\n",
        "| Arguments Summary |\n",
        "=====================\n",
        "\n",
        "Items: 96\n",
        "Varying Keys: 'lat_strength', 'lat_som_loc_strength', 'lat_som_strength', 'som_pv_strength', 'som_strength', 'dataset'\n",
        "Constant Items: frequencies=[1.6000000000000001], num_orientation=12, num_phase=8, outputs=['V1Exc', 'V1PV', 'V1SOM'], times=[0, 5, 10]\n"
       ]
      },
      {
       "name": "stdout",
       "output_type": "stream",
       "stream": "stdout",
       "text": [
        "\n",
        "Show available argument specifier entries? [y, N, quit]: \n"
       ]
      },
      {
       "output_type": "stream",
       "stream": "stdout",
       "text": [
        "\n",
        "===========================\n",
        "| RunBatchCommand Summary |\n",
        "===========================\n",
        "\n",
        "Command executable: /exports/work/inf_ndtc/s1048519/topographica/topographica\n",
        "Analysis functions:\n",
        "\n",
        "   0. OR_measurement(frequencies, num_phase, num_orientation, outputs)\n",
        "   1. pinwheel_analysis(cortex_density=48)\n",
        "   2. measure_position(outputs)\n",
        "   3. measure_or_tuning(times, outputs, frequencies, num_phase, num_orientation)\n",
        "   4. measure_size(times, num_phase)\n",
        "   5. measure_octc(times, num_phase, num_orientation)\n",
        "   6. measure_rfs(times)\n",
        "\n",
        "\n"
       ]
      },
      {
       "name": "stdout",
       "output_type": "stream",
       "stream": "stdout",
       "text": [
        "\n",
        "Show available command entries? [y, N, quit, save]: \n"
       ]
      },
      {
       "output_type": "stream",
       "stream": "stdout",
       "text": [
        "\n",
        "====================\n",
        "| Launcher Summary |\n",
        "====================\n",
        "\n",
        "Type: Launcher\n",
        "Batch Name: 'LESPI'\n",
        "Root directory: '/exports/work/inf_ndtc/s1048519/topographica/work/lespi/Output/2013-10-30_0311-LESPI'\n",
        "Maximum concurrency: 1\n",
        "\n"
       ]
      },
      {
       "name": "stdout",
       "output_type": "stream",
       "stream": "stdout",
       "text": [
        "\n",
        "Show complete launch repr? [Y, n]: \n"
       ]
      },
      {
       "output_type": "stream",
       "stream": "stdout",
       "text": [
        "\n",
        "Launcher(\n",
        "   batch_name='LESPI',\n",
        "   arg_specifier=Args(\n",
        "      times=[0, 5, 10]\n",
        "   ) * Range(\n",
        "      key='lat_strength',\n",
        "      start_value=1.0,\n",
        "      end_value=2.0,\n",
        "      steps=3\n",
        "   ) * Range(\n",
        "      key='lat_som_loc_strength',\n",
        "      start_value=1.0,\n",
        "      end_value=1.5\n",
        "   ) * Range(\n",
        "      key='lat_som_strength',\n",
        "      start_value=2.0,\n",
        "      end_value=2.5\n",
        "   ) * Range(\n",
        "      key='som_pv_strength',\n",
        "      start_value=-0.25,\n",
        "      end_value=-0.5\n",
        "   ) * Range(\n",
        "      key='som_strength',\n",
        "      start_value=-1.0,\n",
        "      end_value=-1.5\n",
        "   ) * List(\n",
        "      key='dataset',\n",
        "      values=['Nature', 'Gaussian']\n",
        "   ) * Args(\n",
        "      frequencies=[1.6000000000000001],\n",
        "      num_orientation=12,\n",
        "      num_phase=8\n",
        "   ) * Args(\n",
        "      outputs=['V1Exc', 'V1PV', 'V1SOM']\n",
        "   ),\n",
        "   command_template=RunBatchCommand(\n",
        "      executable='/exports/work/inf_ndtc/s1048519/topographica/topographica',\n",
        "      tyfile='./lespi.ty',\n",
        "      analysis=Analysis(\n",
        "         paths=['/exports/work/inf_ndtc/s1048519/topographica/work/lespi']\n",
        "         analysis_fns=[\n",
        "            AnalysisFn(lib.measurement.OR_measurement),\n",
        "            AnalysisFn(lib.measurement.pinwheel_analysis),\n",
        "            AnalysisFn(lib.measurement.measure_position),\n",
        "            AnalysisFn(lib.measurement.measure_or_tuning),\n",
        "            AnalysisFn(lib.measurement.measure_size),\n",
        "            AnalysisFn(lib.measurement.measure_octc),\n",
        "            AnalysisFn(lib.measurement.measure_rfs)]\n",
        "         ),\n",
        "      snapshot=False,\n",
        "      snapshot=False\n",
        "   ),\n",
        "   output_directory='/exports/work/inf_ndtc/s1048519/topographica/work/lespi/Output'\n",
        ")\n",
        "\n"
       ]
      },
      {
       "name": "stdout",
       "output_type": "stream",
       "stream": "stdout",
       "text": [
        "Execute? [y, N]: y\n"
       ]
      },
      {
       "output_type": "stream",
       "stream": "stderr",
       "text": [
        "INFO:root:Time: 000000.00 Launcher: Group 0: executing 96 processes...\n"
       ]
      },
      {
       "ename": "KeyboardInterrupt",
       "evalue": "",
       "output_type": "pyerr",
       "traceback": [
        "\u001b[1;31m---------------------------------------------------------------------------\u001b[0m\n\u001b[1;31mKeyboardInterrupt\u001b[0m                         Traceback (most recent call last)",
        "\u001b[1;32m<ipython-input-7-485fdc7b63cd>\u001b[0m in \u001b[0;36m<module>\u001b[1;34m()\u001b[0m\n\u001b[1;32m----> 1\u001b[1;33m \u001b[0mtopo_analysis\u001b[0m\u001b[1;33m(\u001b[0m\u001b[1;33m)\u001b[0m\u001b[1;33m\u001b[0m\u001b[0m\n\u001b[0m",
        "\u001b[1;32m/exports/work/inf_ndtc/s1048519/topographica/external/lancet/lancet/launch.pyc\u001b[0m in \u001b[0;36m__call__\u001b[1;34m(self, fn)\u001b[0m\n\u001b[0;32m    842\u001b[0m             \u001b[1;32mreturn\u001b[0m \u001b[0mself\u001b[0m\u001b[1;33m.\u001b[0m\u001b[0m_launch_all\u001b[0m\u001b[1;33m(\u001b[0m\u001b[0mlaunchers\u001b[0m\u001b[1;33m)\u001b[0m\u001b[1;33m\u001b[0m\u001b[0m\n\u001b[0;32m    843\u001b[0m         \u001b[1;32melse\u001b[0m\u001b[1;33m:\u001b[0m\u001b[1;33m\u001b[0m\u001b[0m\n\u001b[1;32m--> 844\u001b[1;33m             \u001b[1;32mreturn\u001b[0m \u001b[0mself\u001b[0m\u001b[1;33m.\u001b[0m\u001b[0m_review_all\u001b[0m\u001b[1;33m(\u001b[0m\u001b[0mlaunchers\u001b[0m\u001b[1;33m)\u001b[0m\u001b[1;33m\u001b[0m\u001b[0m\n\u001b[0m\u001b[0;32m    845\u001b[0m \u001b[1;33m\u001b[0m\u001b[0m\n\u001b[0;32m    846\u001b[0m     \u001b[1;32mdef\u001b[0m \u001b[0m_launch_all\u001b[0m\u001b[1;33m(\u001b[0m\u001b[0mself\u001b[0m\u001b[1;33m,\u001b[0m \u001b[0mlaunchers\u001b[0m\u001b[1;33m)\u001b[0m\u001b[1;33m:\u001b[0m\u001b[1;33m\u001b[0m\u001b[0m\n",
        "\u001b[1;32m/exports/work/inf_ndtc/s1048519/topographica/external/lancet/lancet/launch.pyc\u001b[0m in \u001b[0;36m_review_all\u001b[1;34m(self, launchers)\u001b[0m\n\u001b[0;32m    885\u001b[0m             \u001b[1;32mreturn\u001b[0m \u001b[0mFalse\u001b[0m\u001b[1;33m\u001b[0m\u001b[0m\n\u001b[0;32m    886\u001b[0m         \u001b[1;32melse\u001b[0m\u001b[1;33m:\u001b[0m\u001b[1;33m\u001b[0m\u001b[0m\n\u001b[1;32m--> 887\u001b[1;33m             \u001b[1;32mreturn\u001b[0m \u001b[0mself\u001b[0m\u001b[1;33m.\u001b[0m\u001b[0m_launch_all\u001b[0m\u001b[1;33m(\u001b[0m\u001b[0mlaunchers\u001b[0m\u001b[1;33m)\u001b[0m\u001b[1;33m\u001b[0m\u001b[0m\n\u001b[0m\u001b[0;32m    888\u001b[0m \u001b[1;33m\u001b[0m\u001b[0m\n\u001b[0;32m    889\u001b[0m     \u001b[1;32mdef\u001b[0m \u001b[0mreview_launcher\u001b[0m\u001b[1;33m(\u001b[0m\u001b[0mself\u001b[0m\u001b[1;33m,\u001b[0m \u001b[0mlauncher\u001b[0m\u001b[1;33m)\u001b[0m\u001b[1;33m:\u001b[0m\u001b[1;33m\u001b[0m\u001b[0m\n",
        "\u001b[1;32m/exports/work/inf_ndtc/s1048519/topographica/external/lancet/lancet/launch.pyc\u001b[0m in \u001b[0;36m_launch_all\u001b[1;34m(self, launchers)\u001b[0m\n\u001b[0;32m    850\u001b[0m         \u001b[1;32mfor\u001b[0m \u001b[0mlauncher\u001b[0m \u001b[1;32min\u001b[0m \u001b[0mlaunchers\u001b[0m\u001b[1;33m:\u001b[0m\u001b[1;33m\u001b[0m\u001b[0m\n\u001b[0;32m    851\u001b[0m             \u001b[1;32mprint\u001b[0m\u001b[1;33m(\u001b[0m\u001b[1;34m\"== Launching  %s ==\"\u001b[0m \u001b[1;33m%\u001b[0m \u001b[0mlauncher\u001b[0m\u001b[1;33m.\u001b[0m\u001b[0mbatch_name\u001b[0m\u001b[1;33m)\u001b[0m\u001b[1;33m\u001b[0m\u001b[0m\n\u001b[1;32m--> 852\u001b[1;33m             \u001b[0mlauncher\u001b[0m\u001b[1;33m(\u001b[0m\u001b[1;33m)\u001b[0m\u001b[1;33m\u001b[0m\u001b[0m\n\u001b[0m\u001b[0;32m    853\u001b[0m         \u001b[1;32mreturn\u001b[0m \u001b[0mTrue\u001b[0m\u001b[1;33m\u001b[0m\u001b[0m\n\u001b[0;32m    854\u001b[0m \u001b[1;33m\u001b[0m\u001b[0m\n",
        "\u001b[1;32m/exports/work/inf_ndtc/s1048519/topographica/external/lancet/lancet/launch.pyc\u001b[0m in \u001b[0;36m__call__\u001b[1;34m(self)\u001b[0m\n\u001b[0;32m    467\u001b[0m \u001b[1;33m\u001b[0m\u001b[0m\n\u001b[0;32m    468\u001b[0m             \u001b[0mself\u001b[0m\u001b[1;33m.\u001b[0m\u001b[0mmessage\u001b[0m\u001b[1;33m(\u001b[0m\u001b[1;34m\"Group %d: executing %d processes...\"\u001b[0m \u001b[1;33m%\u001b[0m \u001b[1;33m(\u001b[0m\u001b[0mgid\u001b[0m\u001b[1;33m,\u001b[0m \u001b[0mlen\u001b[0m\u001b[1;33m(\u001b[0m\u001b[0mallcommands\u001b[0m\u001b[1;33m)\u001b[0m\u001b[1;33m)\u001b[0m\u001b[1;33m)\u001b[0m\u001b[1;33m\u001b[0m\u001b[0m\n\u001b[1;32m--> 469\u001b[1;33m             \u001b[0mself\u001b[0m\u001b[1;33m.\u001b[0m\u001b[0mlaunch_process_group\u001b[0m\u001b[1;33m(\u001b[0m\u001b[0mzip\u001b[0m\u001b[1;33m(\u001b[0m\u001b[0mallcommands\u001b[0m\u001b[1;33m,\u001b[0m\u001b[0mtids\u001b[0m\u001b[1;33m)\u001b[0m\u001b[1;33m,\u001b[0m \u001b[0mstreams_path\u001b[0m\u001b[1;33m)\u001b[0m\u001b[1;33m\u001b[0m\u001b[0m\n\u001b[0m\u001b[0;32m    470\u001b[0m \u001b[1;33m\u001b[0m\u001b[0m\n\u001b[0;32m    471\u001b[0m             \u001b[0mlast_tids\u001b[0m \u001b[1;33m=\u001b[0m \u001b[0mtids\u001b[0m\u001b[1;33m[\u001b[0m\u001b[1;33m:\u001b[0m\u001b[1;33m]\u001b[0m\u001b[1;33m\u001b[0m\u001b[0m\n",
        "\u001b[1;32m/exports/work/inf_ndtc/s1048519/topographica/external/lancet/lancet/launch.pyc\u001b[0m in \u001b[0;36mlaunch_process_group\u001b[1;34m(self, process_commands, streams_path)\u001b[0m\n\u001b[0;32m    436\u001b[0m                 \u001b[1;31m# max_concurrency reached, wait until more slots available\u001b[0m\u001b[1;33m\u001b[0m\u001b[1;33m\u001b[0m\u001b[0m\n\u001b[0;32m    437\u001b[0m                 \u001b[1;32mwhile\u001b[0m \u001b[0mlen\u001b[0m\u001b[1;33m(\u001b[0m\u001b[0mprocesses\u001b[0m\u001b[1;33m)\u001b[0m \u001b[1;33m>=\u001b[0m \u001b[0mself\u001b[0m\u001b[1;33m.\u001b[0m\u001b[0mmax_concurrency\u001b[0m\u001b[1;33m:\u001b[0m\u001b[1;33m\u001b[0m\u001b[0m\n\u001b[1;32m--> 438\u001b[1;33m                     \u001b[1;32mif\u001b[0m \u001b[1;32mnot\u001b[0m \u001b[0mcheck_complete_processes\u001b[0m\u001b[1;33m(\u001b[0m\u001b[0mlen\u001b[0m\u001b[1;33m(\u001b[0m\u001b[0mprocesses\u001b[0m\u001b[1;33m)\u001b[0m\u001b[1;33m==\u001b[0m\u001b[1;36m1\u001b[0m\u001b[1;33m)\u001b[0m\u001b[1;33m:\u001b[0m\u001b[1;33m\u001b[0m\u001b[0m\n\u001b[0m\u001b[0;32m    439\u001b[0m                         \u001b[0mtime\u001b[0m\u001b[1;33m.\u001b[0m\u001b[0msleep\u001b[0m\u001b[1;33m(\u001b[0m\u001b[1;36m0.1\u001b[0m\u001b[1;33m)\u001b[0m\u001b[1;33m\u001b[0m\u001b[0m\n\u001b[0;32m    440\u001b[0m \u001b[1;33m\u001b[0m\u001b[0m\n",
        "\u001b[1;32m/exports/work/inf_ndtc/s1048519/topographica/external/lancet/lancet/launch.pyc\u001b[0m in \u001b[0;36mcheck_complete_processes\u001b[1;34m(wait)\u001b[0m\n\u001b[0;32m    411\u001b[0m             \u001b[1;31m# list creates copy of keys, as dict is modified in loop\u001b[0m\u001b[1;33m\u001b[0m\u001b[1;33m\u001b[0m\u001b[0m\n\u001b[0;32m    412\u001b[0m             \u001b[1;32mfor\u001b[0m \u001b[0mproc\u001b[0m \u001b[1;32min\u001b[0m \u001b[0mlist\u001b[0m\u001b[1;33m(\u001b[0m\u001b[0mprocesses\u001b[0m\u001b[1;33m)\u001b[0m\u001b[1;33m:\u001b[0m\u001b[1;33m\u001b[0m\u001b[0m\n\u001b[1;32m--> 413\u001b[1;33m                 \u001b[1;32mif\u001b[0m \u001b[0mwait\u001b[0m\u001b[1;33m:\u001b[0m \u001b[0mproc\u001b[0m\u001b[1;33m.\u001b[0m\u001b[0mwait\u001b[0m\u001b[1;33m(\u001b[0m\u001b[1;33m)\u001b[0m\u001b[1;33m\u001b[0m\u001b[0m\n\u001b[0m\u001b[0;32m    414\u001b[0m                 \u001b[1;32mif\u001b[0m \u001b[0mproc\u001b[0m\u001b[1;33m.\u001b[0m\u001b[0mpoll\u001b[0m\u001b[1;33m(\u001b[0m\u001b[1;33m)\u001b[0m \u001b[1;32mis\u001b[0m \u001b[1;32mnot\u001b[0m \u001b[0mNone\u001b[0m\u001b[1;33m:\u001b[0m\u001b[1;33m\u001b[0m\u001b[0m\n\u001b[0;32m    415\u001b[0m                     \u001b[1;31m# process is done, free up slot\u001b[0m\u001b[1;33m\u001b[0m\u001b[1;33m\u001b[0m\u001b[0m\n",
        "\u001b[1;32m/usr/lib64/python2.6/subprocess.pyc\u001b[0m in \u001b[0;36mwait\u001b[1;34m(self, timeout, endtime)\u001b[0m\n\u001b[0;32m   1294\u001b[0m                     \u001b[0mtime\u001b[0m\u001b[1;33m.\u001b[0m\u001b[0msleep\u001b[0m\u001b[1;33m(\u001b[0m\u001b[0mdelay\u001b[0m\u001b[1;33m)\u001b[0m\u001b[1;33m\u001b[0m\u001b[0m\n\u001b[0;32m   1295\u001b[0m             \u001b[1;32melif\u001b[0m \u001b[0mself\u001b[0m\u001b[1;33m.\u001b[0m\u001b[0mreturncode\u001b[0m \u001b[1;32mis\u001b[0m \u001b[0mNone\u001b[0m\u001b[1;33m:\u001b[0m\u001b[1;33m\u001b[0m\u001b[0m\n\u001b[1;32m-> 1296\u001b[1;33m                 \u001b[0mpid\u001b[0m\u001b[1;33m,\u001b[0m \u001b[0msts\u001b[0m \u001b[1;33m=\u001b[0m \u001b[0m_eintr_retry_call\u001b[0m\u001b[1;33m(\u001b[0m\u001b[0mos\u001b[0m\u001b[1;33m.\u001b[0m\u001b[0mwaitpid\u001b[0m\u001b[1;33m,\u001b[0m \u001b[0mself\u001b[0m\u001b[1;33m.\u001b[0m\u001b[0mpid\u001b[0m\u001b[1;33m,\u001b[0m \u001b[1;36m0\u001b[0m\u001b[1;33m)\u001b[0m\u001b[1;33m\u001b[0m\u001b[0m\n\u001b[0m\u001b[0;32m   1297\u001b[0m                 \u001b[0mself\u001b[0m\u001b[1;33m.\u001b[0m\u001b[0m_handle_exitstatus\u001b[0m\u001b[1;33m(\u001b[0m\u001b[0msts\u001b[0m\u001b[1;33m)\u001b[0m\u001b[1;33m\u001b[0m\u001b[0m\n\u001b[0;32m   1298\u001b[0m             \u001b[1;32mreturn\u001b[0m \u001b[0mself\u001b[0m\u001b[1;33m.\u001b[0m\u001b[0mreturncode\u001b[0m\u001b[1;33m\u001b[0m\u001b[0m\n",
        "\u001b[1;32m/usr/lib64/python2.6/subprocess.pyc\u001b[0m in \u001b[0;36m_eintr_retry_call\u001b[1;34m(func, *args)\u001b[0m\n\u001b[0;32m    460\u001b[0m     \u001b[1;32mwhile\u001b[0m \u001b[0mTrue\u001b[0m\u001b[1;33m:\u001b[0m\u001b[1;33m\u001b[0m\u001b[0m\n\u001b[0;32m    461\u001b[0m         \u001b[1;32mtry\u001b[0m\u001b[1;33m:\u001b[0m\u001b[1;33m\u001b[0m\u001b[0m\n\u001b[1;32m--> 462\u001b[1;33m             \u001b[1;32mreturn\u001b[0m \u001b[0mfunc\u001b[0m\u001b[1;33m(\u001b[0m\u001b[1;33m*\u001b[0m\u001b[0margs\u001b[0m\u001b[1;33m)\u001b[0m\u001b[1;33m\u001b[0m\u001b[0m\n\u001b[0m\u001b[0;32m    463\u001b[0m         \u001b[1;32mexcept\u001b[0m \u001b[0mOSError\u001b[0m\u001b[1;33m,\u001b[0m \u001b[0me\u001b[0m\u001b[1;33m:\u001b[0m\u001b[1;33m\u001b[0m\u001b[0m\n\u001b[0;32m    464\u001b[0m             \u001b[1;32mif\u001b[0m \u001b[0me\u001b[0m\u001b[1;33m.\u001b[0m\u001b[0merrno\u001b[0m \u001b[1;33m==\u001b[0m \u001b[0merrno\u001b[0m\u001b[1;33m.\u001b[0m\u001b[0mEINTR\u001b[0m\u001b[1;33m:\u001b[0m\u001b[1;33m\u001b[0m\u001b[0m\n",
        "\u001b[1;31mKeyboardInterrupt\u001b[0m: "
       ]
      },
      {
       "output_type": "stream",
       "stream": "stdout",
       "text": [
        "== Launching  LESPI ==\n"
       ]
      }
     ],
     "prompt_number": 7
    },
    {
     "cell_type": "code",
     "collapsed": false,
     "input": [
      "rm -r ./Output/2013-10-30_0209-LESPI/"
     ],
     "language": "python",
     "metadata": {},
     "outputs": [
      {
       "output_type": "stream",
       "stream": "stdout",
       "text": [
        "rm: descend into directory `./Output/2013-10-30_0209-LESPI'? "
       ]
      },
      {
       "output_type": "stream",
       "stream": "stdout",
       "text": [
        "^C"
       ]
      }
     ],
     "prompt_number": 8
    },
    {
     "cell_type": "code",
     "collapsed": false,
     "input": [
      "ls ./O"
     ],
     "language": "python",
     "metadata": {},
     "outputs": []
    }
   ],
   "metadata": {}
  }
 ]
}