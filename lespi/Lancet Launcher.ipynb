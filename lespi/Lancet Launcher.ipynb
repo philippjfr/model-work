{
 "metadata": {
  "name": ""
 },
 "nbformat": 3,
 "nbformat_minor": 0,
 "worksheets": [
  {
   "cells": [
    {
     "cell_type": "code",
     "collapsed": false,
     "input": [
      "import sys, os\n",
      "\n",
      "basepath = '/home/philippjfr/topographica/'\n",
      "sys.path += [os.path.join(basepath, 'external', 'param')]\n",
      "sys.path += [os.path.join(basepath, 'external', 'paramtk')]\n",
      "sys.path += [os.path.join(basepath, 'external', 'imagen')]\n",
      "sys.path += [os.path.join(basepath, 'external', 'lancet')]\n",
      "sys.path += [basepath]"
     ],
     "language": "python",
     "metadata": {},
     "outputs": [],
     "prompt_number": 16
    },
    {
     "cell_type": "code",
     "collapsed": false,
     "input": [
      "import os\n",
      "import lancet\n",
      "from lancet import QLauncher, Launcher, Args, Range, List, review_and_launch\n",
      "from topo.misc.lancext import RunBatchCommand, Analysis"
     ],
     "language": "python",
     "metadata": {},
     "outputs": [],
     "prompt_number": 17
    },
    {
     "cell_type": "code",
     "collapsed": false,
     "input": [
      "from lib import measurement"
     ],
     "language": "python",
     "metadata": {},
     "outputs": [],
     "prompt_number": 18
    },
    {
     "cell_type": "markdown",
     "metadata": {},
     "source": [
      "## Model Setup"
     ]
    },
    {
     "cell_type": "code",
     "collapsed": false,
     "input": [
      "models = List('model', ['LESPI'])\n",
      "models = Args(model='LESPI')\n",
      "\n",
      "model_files= {'LESPI':'./lespi.ty',\n",
      "              'SCAL':'./scal.ty',\n",
      "              'SEPI':'./sepi.ty',\n",
      "              'LESI':'./lesi.ty'}\n",
      "\n",
      "model_sheets = {'LESPI':['V1Exc','V1PV','V1SOM','VSDLayer'],\n",
      "              'SCAL':['V1Exc'],\n",
      "              'SEPI':['V1Exc','V1PV'],\n",
      "              'LESI':['V1Exc','V1Inh']}"
     ],
     "language": "python",
     "metadata": {},
     "outputs": [],
     "prompt_number": 4
    },
    {
     "cell_type": "markdown",
     "metadata": {},
     "source": [
      "## Constants <a name=\"Constants\"></a>"
     ]
    },
    {
     "cell_type": "code",
     "collapsed": false,
     "input": [
      "# Settings that are constant for all simulations launched\n",
      "model_constants = lancet.Args(retina_density=16.0, lgn_density=16.0, area=3.0, cortex_density=48.0)\n",
      "\n",
      "# Simulation times at which to perform measurements\n",
      "#measurement_times = lancet.Args(times=[i*1000 for i in range(11)])\n",
      "measurement_times = [0,1000,2500,5000,10000]\n",
      "\n",
      "# The number of phases and orientations used in the orientation tuning curve measurement\n",
      "analysis_constants = lancet.Args(num_orientation=12, num_phase=8, frequencies=[1.6])\n",
      "\n",
      "print \"The analysis and measurement contant settings:\"; (model_constants * analysis_constants).dframe"
     ],
     "language": "python",
     "metadata": {},
     "outputs": [
      {
       "output_type": "stream",
       "stream": "stdout",
       "text": [
        "The analysis and measurement contant settings:\n"
       ]
      },
      {
       "output_type": "stream",
       "stream": "stderr",
       "text": [
        "/exports/work/inf_ndtc/s1048519/tools/.virtualenvs/topo/lib/python2.6/site-packages/pandas/core/config.py:570: DeprecationWarning: height has been deprecated.\n",
        "\n",
        "  warnings.warn(d.msg, DeprecationWarning)\n"
       ]
      },
      {
       "html": [
        "<div style=\"max-height:1000px;max-width:1500px;overflow:auto;\">\n",
        "<table border=\"1\" class=\"dataframe\">\n",
        "  <thead>\n",
        "    <tr style=\"text-align: right;\">\n",
        "      <th></th>\n",
        "      <th>area</th>\n",
        "      <th>cortex_density</th>\n",
        "      <th>frequencies</th>\n",
        "      <th>lgn_density</th>\n",
        "      <th>num_orientation</th>\n",
        "      <th>num_phase</th>\n",
        "      <th>retina_density</th>\n",
        "    </tr>\n",
        "  </thead>\n",
        "  <tbody>\n",
        "    <tr>\n",
        "      <th>0</th>\n",
        "      <td> 3</td>\n",
        "      <td> 48</td>\n",
        "      <td> [1.6]</td>\n",
        "      <td> 16</td>\n",
        "      <td> 12</td>\n",
        "      <td> 8</td>\n",
        "      <td> 16</td>\n",
        "    </tr>\n",
        "  </tbody>\n",
        "</table>\n",
        "</div>"
       ],
       "metadata": {},
       "output_type": "pyout",
       "prompt_number": 5,
       "text": [
        "   area  cortex_density frequencies  lgn_density  num_orientation  num_phase  \\\n",
        "0     3              48       [1.6]           16               12          8   \n",
        "\n",
        "   retina_density  \n",
        "0              16  "
       ]
      }
     ],
     "prompt_number": 5
    },
    {
     "cell_type": "code",
     "collapsed": false,
     "input": [
      "CLUSTER = True\n",
      "threads = 4\n",
      "Launcher = lancet.QLauncher if CLUSTER else lancet.Launcher\n",
      "launcher_kwargs = dict(\n",
      "    qsub_flag_options = dict(b='y',\n",
      "                             pe=('memory-2G',str(threads)),\n",
      "                             v='OMP_NUM_THREADS=%s' % str(threads),\n",
      "                             P='inf_ndtc',\n",
      "                             R='y',\n",
      "                             m='a')\n",
      "    ) if CLUSTER else dict(max_concurrency=1)"
     ],
     "language": "python",
     "metadata": {},
     "outputs": [],
     "prompt_number": 6
    },
    {
     "cell_type": "code",
     "collapsed": false,
     "input": [
      "@review_and_launch(output_directory=os.path.join(os.getcwd(), 'Output'),\n",
      "                   launch_args=models, review=True)\n",
      "def topo_analysis(model):\n",
      "\n",
      "    sheets = Args(outputs=model_sheets[model])\n",
      "    \n",
      "    if model == 'LESPI':\n",
      "        model_spec = Range('lat_strength',1.0,1.5,2) * Range('lat_som_loc_strength',1.0,1.25,2) * Range('lat_som_strength',2.0,2.25,2)  * Range('som_strength',-1.0,-1.5,2) * List('dataset',['Nature','Gaussian'])\n",
      "    elif model == 'SEPI':\n",
      "        model_spec = Range('lat_loc_strength',2.0,2.5,2) * Range('lat_pv_strength',2.5,3.0,2) * Range('pv_strength',2.5,3.0,2) * List('dataset',['Nature','Gaussian']) \n",
      "    elif model == 'SCAL':\n",
      "        model_spec = Range('exc_strength',1.0,1.0,1) * Range('inh_strength',2.0,2.0,1) * Range('area',3.0,3.0,1) * List('dataset',[\"'Nature'\",\"'Gaussian'\"])\n",
      "    elif model == 'DPGCAL':\n",
      "        model_spec = Range('lat_loc_strength',3.0,3.0,1) * Range('pv_strength',3.25,3.25,1) * Range('lat_pv_strength',3.25,3.25,1) * List('dataset',[\"'Nature'\",\"'Gaussian'\"])\n",
      "\n",
      "    # Completed Specifier\n",
      "    combined_spec = Args(times=measurement_times) * model_spec * analysis_constants * sheets\n",
      "\n",
      "    # Analysis\n",
      "    analysis = Analysis(paths=[os.getcwd()])\n",
      "    analysis.add_analysis_fn(measurement.OR_measurement)\n",
      "    analysis.add_analysis_fn(measurement.pinwheel_analysis)\n",
      "    analysis.add_analysis_fn(measurement.measure_position)\n",
      "    analysis.add_analysis_fn(measurement.measure_or_tuning)\n",
      "    analysis.add_analysis_fn(measurement.measure_size)\n",
      "    analysis.add_analysis_fn(measurement.measure_octc)\n",
      "    analysis.add_analysis_fn(measurement.measure_rfs)\n",
      "    analysis.add_analysis_fn(measurement.clear_views)\n",
      "    \n",
      "    run_batch_command = RunBatchCommand(model_files[model], analysis, snapshot=False)\n",
      "    \n",
      "    return Launcher(model, combined_spec, run_batch_command, **launcher_kwargs)"
     ],
     "language": "python",
     "metadata": {},
     "outputs": [],
     "prompt_number": 7
    },
    {
     "cell_type": "code",
     "collapsed": false,
     "input": [
      "topo_analysis()"
     ],
     "language": "python",
     "metadata": {},
     "outputs": [
      {
       "output_type": "stream",
       "stream": "stdout",
       "text": [
        "\n",
        "==========================\n",
        "| Meta Arguments Summary |\n",
        "==========================\n",
        "\n",
        "Items: 1\n",
        "Varying Keys: \n",
        "Constant Items: model='LESPI'\n",
        "\n",
        "Args(\n",
        "   model='LESPI'\n",
        ")\n",
        "\n"
       ]
      },
      {
       "name": "stdout",
       "output_type": "stream",
       "stream": "stdout",
       "text": [
        "\n",
        "Show available argument specifier entries? [y, N, quit]: \n"
       ]
      },
      {
       "output_type": "stream",
       "stream": "stdout",
       "text": [
        "\n",
        "\n",
        "=====================\n",
        "| Arguments Summary |\n",
        "=====================\n",
        "\n",
        "Items: 32\n",
        "Varying Keys: 'lat_strength', 'lat_som_loc_strength', 'lat_som_strength', 'som_strength', 'dataset'\n",
        "Constant Items: frequencies=[1.6000000000000001], num_orientation=12, num_phase=8, outputs=['V1Exc', 'V1PV', 'V1SOM', 'VSDLayer'], times=[0, 1000, 2500, 5000, 10000]\n"
       ]
      },
      {
       "name": "stdout",
       "output_type": "stream",
       "stream": "stdout",
       "text": [
        "\n",
        "Show available argument specifier entries? [y, N, quit]: \n"
       ]
      },
      {
       "output_type": "stream",
       "stream": "stdout",
       "text": [
        "\n",
        "===========================\n",
        "| RunBatchCommand Summary |\n",
        "===========================\n",
        "\n",
        "Command executable: /exports/work/inf_ndtc/s1048519/topographica/topographica\n",
        "Analysis functions:\n",
        "\n",
        "   0. OR_measurement(frequencies=[1.6000000000000001], num_phase=8, num_orientation=16, outputs=['V1Exc'])\n",
        "   1. pinwheel_analysis()\n",
        "   2. measure_position(outputs=['V1Exc'])\n",
        "   3. measure_or_tuning(times=[0, 100, 5000, 10000], outputs=['V1Exc'], frequencies=[1.6000000000000001], num_phase=8, num_orientation=20)\n",
        "   4. measure_size(times=[0, 100, 5000, 10000], num_phase=8)\n",
        "   5. measure_octc(times=[0, 100, 5000, 10000], num_phase=8, num_orientation=16)\n",
        "   6. measure_rfs(times=[0, 100, 5000, 10000])\n",
        "   7. clear_views(outputs)\n",
        "\n",
        "\n"
       ]
      },
      {
       "name": "stdout",
       "output_type": "stream",
       "stream": "stdout",
       "text": [
        "\n",
        "Show available command entries? [y, N, quit, save]: \n"
       ]
      },
      {
       "output_type": "stream",
       "stream": "stdout",
       "text": [
        "\n",
        "=====================\n",
        "| QLauncher Summary |\n",
        "=====================\n",
        "\n",
        "Type: QLauncher\n",
        "Batch Name: 'LESPI'\n",
        "Root directory: '/exports/work/inf_ndtc/s1048519/topographica/work/lespi/Output/2013-11-02_0057-LESPI'\n",
        "Maximum concurrency: None\n",
        "\n"
       ]
      },
      {
       "name": "stdout",
       "output_type": "stream",
       "stream": "stdout",
       "text": [
        "\n",
        "Show complete launch repr? [Y, n]: \n"
       ]
      },
      {
       "output_type": "stream",
       "stream": "stdout",
       "text": [
        "\n",
        "QLauncher(\n",
        "   batch_name='LESPI',\n",
        "   arg_specifier=Args(\n",
        "      times=[0, 1000, 2500, 5000, 10000]\n",
        "   ) * Range(\n",
        "      key='lat_strength',\n",
        "      start_value=1.0,\n",
        "      end_value=1.5\n",
        "   ) * Range(\n",
        "      key='lat_som_loc_strength',\n",
        "      start_value=1.0,\n",
        "      end_value=1.25\n",
        "   ) * Range(\n",
        "      key='lat_som_strength',\n",
        "      start_value=2.0,\n",
        "      end_value=2.25\n",
        "   ) * Range(\n",
        "      key='som_strength',\n",
        "      start_value=-1.0,\n",
        "      end_value=-1.5\n",
        "   ) * List(\n",
        "      key='dataset',\n",
        "      values=['Nature', 'Gaussian']\n",
        "   ) * Args(\n",
        "      frequencies=[1.6000000000000001],\n",
        "      num_orientation=12,\n",
        "      num_phase=8\n",
        "   ) * Args(\n",
        "      outputs=['V1Exc', 'V1PV', 'V1SOM', 'VSDLayer']\n",
        "   ),\n",
        "   command_template=RunBatchCommand(\n",
        "      executable='/exports/work/inf_ndtc/s1048519/topographica/topographica',\n",
        "      tyfile='./lespi.ty',\n",
        "      analysis=Analysis(\n",
        "         paths=['/exports/work/inf_ndtc/s1048519/topographica/work/lespi']\n",
        "         analysis_fns=[\n",
        "            AnalysisFn(lib.measurement.OR_measurement),\n",
        "            AnalysisFn(lib.measurement.pinwheel_analysis),\n",
        "            AnalysisFn(lib.measurement.measure_position),\n",
        "            AnalysisFn(lib.measurement.measure_or_tuning),\n",
        "            AnalysisFn(lib.measurement.measure_size),\n",
        "            AnalysisFn(lib.measurement.measure_octc),\n",
        "            AnalysisFn(lib.measurement.measure_rfs),\n",
        "            AnalysisFn(lib.measurement.clear_views)]\n",
        "         ),\n",
        "      snapshot=False,\n",
        "      snapshot=False\n",
        "   ),\n",
        "   output_directory='/exports/work/inf_ndtc/s1048519/topographica/work/lespi/Output'\n",
        ")\n",
        "\n"
       ]
      },
      {
       "name": "stdout",
       "output_type": "stream",
       "stream": "stdout",
       "text": [
        "Execute? [y, N]: y\n"
       ]
      },
      {
       "output_type": "stream",
       "stream": "stderr",
       "text": [
        "INFO:root:Time: 000000.00 QLauncher: Invoked qsub for 32 commands\n"
       ]
      },
      {
       "output_type": "stream",
       "stream": "stdout",
       "text": [
        "== Launching  LESPI ==\n"
       ]
      },
      {
       "metadata": {},
       "output_type": "pyout",
       "prompt_number": 8,
       "text": [
        "True"
       ]
      }
     ],
     "prompt_number": 8
    },
    {
     "cell_type": "markdown",
     "metadata": {},
     "source": [
      "<h3 class='alert alert-error'>PLEASE DON'T SHUT THE COMPUTER DOWN.</h3>\n",
      "<h3 class='alert alert-sucess'>OR CLOSE ANY WINDOWS</h3>\n",
      "<h3 class='alert alert-warning'>HAVE A LOVELY DAY THOUGH.</h3>\n",
      "<h3 class='alert alert-info'>LOVE YOU!</h3>\n",
      "\n",
      "\n"
     ]
    },
    {
     "cell_type": "code",
     "collapsed": false,
     "input": [],
     "language": "python",
     "metadata": {},
     "outputs": []
    }
   ],
   "metadata": {}
  }
 ]
}