{
 "metadata": {
  "name": ""
 },
 "nbformat": 3,
 "nbformat_minor": 0,
 "worksheets": [
  {
   "cells": [
    {
     "cell_type": "code",
     "collapsed": false,
     "input": [
      "import numpy as np"
     ],
     "language": "python",
     "metadata": {},
     "outputs": [],
     "prompt_number": 1
    },
    {
     "cell_type": "code",
     "collapsed": false,
     "input": [
      "from matplotlib import pyplot as plt"
     ],
     "language": "python",
     "metadata": {},
     "outputs": [],
     "prompt_number": 2
    },
    {
     "cell_type": "code",
     "collapsed": false,
     "input": [
      "a=np.linspace(0,10,101)"
     ],
     "language": "python",
     "metadata": {},
     "outputs": [],
     "prompt_number": 3
    },
    {
     "cell_type": "code",
     "collapsed": false,
     "input": [
      "init_fit=[0.2,3,1.5,0.2,-0.003,0]"
     ],
     "language": "python",
     "metadata": {},
     "outputs": [],
     "prompt_number": 29
    },
    {
     "cell_type": "code",
     "collapsed": false,
     "input": [
      "def KaschubeFit(k, a0=0.35, a1=3.8, a2=1.3, a3=0.15, a4=-0.003, a5=0):\n",
      "    \"\"\"\n",
      "    Fitting function used by Kaschube for finding the hypercolumn\n",
      "    distance from the Fourier power spectrum. Default values\n",
      "    correspond to a good starting point for GCAL maps. These values\n",
      "    should match the init_fit defaults of pinwheel_analysis below.\n",
      "\n",
      "    a0 => Gaussian height\n",
      "    a1 => Peak position\n",
      "    a2 => Gaussian spread (ie. variance)\n",
      "    a3 => Baseline value (w/o falloff)\n",
      "    a4 => Linear falloff\n",
      "    a5 => Quadratic falloff\n",
      "    \"\"\"\n",
      "    exponent = - ((k - a1)**2) / (2 * a2**2)\n",
      "    return a0 * np.exp(exponent) + a3 + a4*k + a5*np.power(k,2)"
     ],
     "language": "python",
     "metadata": {},
     "outputs": [],
     "prompt_number": 30
    },
    {
     "cell_type": "code",
     "collapsed": false,
     "input": [
      "plt.plot(a,KaschubeFit(a,*init_fit))"
     ],
     "language": "python",
     "metadata": {},
     "outputs": [
      {
       "metadata": {},
       "output_type": "pyout",
       "prompt_number": 31,
       "text": [
        "[<matplotlib.lines.Line2D at 0x34fe950>]"
       ]
      },
      {
       "metadata": {},
       "output_type": "display_data",
       "png": "[encoded data removed]",
       "text": [
        "<matplotlib.figure.Figure at 0x31e19d0>"
       ]
      }
     ],
     "prompt_number": 31
    },
    {
     "cell_type": "code",
     "collapsed": false,
     "input": [],
     "language": "python",
     "metadata": {},
     "outputs": []
    }
   ],
   "metadata": {}
  }
 ]
}